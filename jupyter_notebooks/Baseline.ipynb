{
 "cells": [
  {
   "cell_type": "markdown",
   "metadata": {},
   "source": [
    "# Baseline Test"
   ]
  },
  {
   "cell_type": "code",
   "execution_count": 3,
   "metadata": {},
   "outputs": [
    {
     "name": "stderr",
     "output_type": "stream",
     "text": [
      "/home/ayu/anaconda3/lib/python3.6/site-packages/sklearn/cross_validation.py:41: DeprecationWarning: This module was deprecated in version 0.18 in favor of the model_selection module into which all the refactored classes and functions are moved. Also note that the interface of the new CV iterators are different from that of this module. This module will be removed in 0.20.\n",
      "  \"This module will be removed in 0.20.\", DeprecationWarning)\n"
     ]
    }
   ],
   "source": [
    "import pandas as pd\n",
    "import numpy as np\n",
    "#NLTK\n",
    "import string\n",
    "import nltk\n",
    "from nltk.util import ngrams\n",
    "from nltk.tokenize import sent_tokenize, word_tokenize\n",
    "from nltk.corpus import stopwords\n",
    "from nltk.stem.snowball import SnowballStemmer\n",
    "#Sklearn\n",
    "from sklearn import cross_validation\n",
    "from sklearn.cross_validation import train_test_split, cross_val_score\n",
    "from sklearn.naive_bayes import MultinomialNB\n",
    "from sklearn.linear_model import LogisticRegression\n",
    "from sklearn.pipeline import Pipeline\n",
    "from sklearn.svm import LinearSVC\n",
    "from sklearn.feature_extraction.text import TfidfVectorizer, TfidfTransformer\n",
    "from sklearn.ensemble import RandomForestClassifier, GradientBoostingClassifier\n",
    "from sklearn import preprocessing\n",
    "from sklearn.feature_extraction.text import CountVectorizer, TfidfVectorizer\n",
    "from sklearn.model_selection import train_test_split, KFold, GridSearchCV, RandomizedSearchCV\n",
    "from sklearn.metrics import accuracy_score, confusion_matrix, roc_auc_score, roc_curve, classification_report \n",
    "#Matplotlib\n",
    "import matplotlib\n",
    "from matplotlib import pyplot as plt\n",
    "import re\n",
    "%matplotlib inline"
   ]
  },
  {
   "cell_type": "code",
   "execution_count": 4,
   "metadata": {},
   "outputs": [
    {
     "name": "stderr",
     "output_type": "stream",
     "text": [
      "/home/ayu/anaconda3/lib/python3.6/site-packages/IPython/core/interactiveshell.py:2698: DtypeWarning: Columns (43,61,62,88) have mixed types. Specify dtype option on import or set low_memory=False.\n",
      "  interactivity=interactivity, compiler=compiler, result=result)\n"
     ]
    }
   ],
   "source": [
    "df_listings=pd.read_csv('listings/listings.csv')"
   ]
  },
  {
   "cell_type": "code",
   "execution_count": 5,
   "metadata": {},
   "outputs": [],
   "source": [
    "df_reviews=pd.read_csv('reviews/reviews.csv')"
   ]
  },
  {
   "cell_type": "code",
   "execution_count": 6,
   "metadata": {},
   "outputs": [
    {
     "data": {
      "text/html": [
       "<div>\n",
       "<style>\n",
       "    .dataframe thead tr:only-child th {\n",
       "        text-align: right;\n",
       "    }\n",
       "\n",
       "    .dataframe thead th {\n",
       "        text-align: left;\n",
       "    }\n",
       "\n",
       "    .dataframe tbody tr th {\n",
       "        vertical-align: top;\n",
       "    }\n",
       "</style>\n",
       "<table border=\"1\" class=\"dataframe\">\n",
       "  <thead>\n",
       "    <tr style=\"text-align: right;\">\n",
       "      <th></th>\n",
       "      <th>listing_id</th>\n",
       "      <th>id</th>\n",
       "      <th>date</th>\n",
       "      <th>reviewer_id</th>\n",
       "      <th>reviewer_name</th>\n",
       "      <th>comments</th>\n",
       "    </tr>\n",
       "  </thead>\n",
       "  <tbody>\n",
       "    <tr>\n",
       "      <th>0</th>\n",
       "      <td>2515</td>\n",
       "      <td>198</td>\n",
       "      <td>2008-10-13</td>\n",
       "      <td>2603</td>\n",
       "      <td>Jenny</td>\n",
       "      <td>Stephanie was a wonderful host! Her apartment ...</td>\n",
       "    </tr>\n",
       "    <tr>\n",
       "      <th>1</th>\n",
       "      <td>2515</td>\n",
       "      <td>859</td>\n",
       "      <td>2009-03-08</td>\n",
       "      <td>8455</td>\n",
       "      <td>Roland</td>\n",
       "      <td>Such a wonderful place and very close to the m...</td>\n",
       "    </tr>\n",
       "    <tr>\n",
       "      <th>2</th>\n",
       "      <td>2515</td>\n",
       "      <td>1083</td>\n",
       "      <td>2009-03-25</td>\n",
       "      <td>9759</td>\n",
       "      <td>Cem</td>\n",
       "      <td>I just got back from a trip to NYC during whic...</td>\n",
       "    </tr>\n",
       "    <tr>\n",
       "      <th>3</th>\n",
       "      <td>2515</td>\n",
       "      <td>1107</td>\n",
       "      <td>2009-03-27</td>\n",
       "      <td>9193</td>\n",
       "      <td>Holly</td>\n",
       "      <td>Stephanie's offered all the most important thi...</td>\n",
       "    </tr>\n",
       "    <tr>\n",
       "      <th>4</th>\n",
       "      <td>2515</td>\n",
       "      <td>2175</td>\n",
       "      <td>2009-05-09</td>\n",
       "      <td>7048</td>\n",
       "      <td>Alessandra</td>\n",
       "      <td>Stephanie was really nice, ftiendly and helpfu...</td>\n",
       "    </tr>\n",
       "  </tbody>\n",
       "</table>\n",
       "</div>"
      ],
      "text/plain": [
       "   listing_id    id        date  reviewer_id reviewer_name  \\\n",
       "0        2515   198  2008-10-13         2603         Jenny   \n",
       "1        2515   859  2009-03-08         8455        Roland   \n",
       "2        2515  1083  2009-03-25         9759           Cem   \n",
       "3        2515  1107  2009-03-27         9193         Holly   \n",
       "4        2515  2175  2009-05-09         7048    Alessandra   \n",
       "\n",
       "                                            comments  \n",
       "0  Stephanie was a wonderful host! Her apartment ...  \n",
       "1  Such a wonderful place and very close to the m...  \n",
       "2  I just got back from a trip to NYC during whic...  \n",
       "3  Stephanie's offered all the most important thi...  \n",
       "4  Stephanie was really nice, ftiendly and helpfu...  "
      ]
     },
     "execution_count": 6,
     "metadata": {},
     "output_type": "execute_result"
    }
   ],
   "source": [
    "df_reviews.head(5)"
   ]
  },
  {
   "cell_type": "code",
   "execution_count": 7,
   "metadata": {},
   "outputs": [],
   "source": [
    "#fill nans with none in comments\n",
    "df_reviews.comments.fillna('none',inplace=True)"
   ]
  },
  {
   "cell_type": "markdown",
   "metadata": {},
   "source": [
    "#### Check how many rows have the word super host in it"
   ]
  },
  {
   "cell_type": "code",
   "execution_count": 8,
   "metadata": {},
   "outputs": [
    {
     "data": {
      "text/plain": [
       "(1217, 6)"
      ]
     },
     "execution_count": 8,
     "metadata": {},
     "output_type": "execute_result"
    }
   ],
   "source": [
    "df_reviews[df_reviews.comments.str.contains('super host')==True].shape"
   ]
  },
  {
   "cell_type": "code",
   "execution_count": 9,
   "metadata": {},
   "outputs": [
    {
     "data": {
      "text/plain": [
       "(290, 6)"
      ]
     },
     "execution_count": 9,
     "metadata": {},
     "output_type": "execute_result"
    }
   ],
   "source": [
    "df_reviews[df_reviews.comments.str.contains('superhost')==True].shape"
   ]
  },
  {
   "cell_type": "markdown",
   "metadata": {},
   "source": [
    "#### Replace all superhost strings with a blank space in each \"review\""
   ]
  },
  {
   "cell_type": "code",
   "execution_count": 10,
   "metadata": {},
   "outputs": [],
   "source": [
    "df_reviews.comments = df_reviews.comments.str.replace(\"superhost\",\"\")"
   ]
  },
  {
   "cell_type": "code",
   "execution_count": 11,
   "metadata": {},
   "outputs": [],
   "source": [
    "df_reviews.comments = df_reviews.comments.str.replace(\"super host\",\"\")"
   ]
  },
  {
   "cell_type": "code",
   "execution_count": 12,
   "metadata": {},
   "outputs": [],
   "source": [
    "#join all reviews together by listing_id (this will allow me run tf-idf on all my reviews together and look for topics/features)\n",
    "df_reviews=df_reviews.groupby(['listing_id'])['comments'].apply(','.join).reset_index()"
   ]
  },
  {
   "cell_type": "code",
   "execution_count": 13,
   "metadata": {},
   "outputs": [
    {
     "data": {
      "text/html": [
       "<div>\n",
       "<style>\n",
       "    .dataframe thead tr:only-child th {\n",
       "        text-align: right;\n",
       "    }\n",
       "\n",
       "    .dataframe thead th {\n",
       "        text-align: left;\n",
       "    }\n",
       "\n",
       "    .dataframe tbody tr th {\n",
       "        vertical-align: top;\n",
       "    }\n",
       "</style>\n",
       "<table border=\"1\" class=\"dataframe\">\n",
       "  <thead>\n",
       "    <tr style=\"text-align: right;\">\n",
       "      <th></th>\n",
       "      <th>listing_id</th>\n",
       "      <th>comments</th>\n",
       "    </tr>\n",
       "  </thead>\n",
       "  <tbody>\n",
       "    <tr>\n",
       "      <th>0</th>\n",
       "      <td>2515</td>\n",
       "      <td>Stephanie was a wonderful host! Her apartment ...</td>\n",
       "    </tr>\n",
       "    <tr>\n",
       "      <th>1</th>\n",
       "      <td>2539</td>\n",
       "      <td>Great host ,Nice room for the price. Great nei...</td>\n",
       "    </tr>\n",
       "    <tr>\n",
       "      <th>2</th>\n",
       "      <td>2595</td>\n",
       "      <td>Notre séjour de trois nuits.\\r\\nNous avons app...</td>\n",
       "    </tr>\n",
       "    <tr>\n",
       "      <th>3</th>\n",
       "      <td>3330</td>\n",
       "      <td>I haven't met Julia but her place is very nice...</td>\n",
       "    </tr>\n",
       "    <tr>\n",
       "      <th>4</th>\n",
       "      <td>3831</td>\n",
       "      <td>lisa is a wonderful, kind and thoughtful host....</td>\n",
       "    </tr>\n",
       "  </tbody>\n",
       "</table>\n",
       "</div>"
      ],
      "text/plain": [
       "   listing_id                                           comments\n",
       "0        2515  Stephanie was a wonderful host! Her apartment ...\n",
       "1        2539  Great host ,Nice room for the price. Great nei...\n",
       "2        2595  Notre séjour de trois nuits.\\r\\nNous avons app...\n",
       "3        3330  I haven't met Julia but her place is very nice...\n",
       "4        3831  lisa is a wonderful, kind and thoughtful host...."
      ]
     },
     "execution_count": 13,
     "metadata": {},
     "output_type": "execute_result"
    }
   ],
   "source": [
    "df_reviews.head(5)"
   ]
  },
  {
   "cell_type": "code",
   "execution_count": 14,
   "metadata": {},
   "outputs": [],
   "source": [
    "df_combined=pd.merge(df_listings, df_reviews, left_on='id', right_on='listing_id', how='left')"
   ]
  },
  {
   "cell_type": "code",
   "execution_count": 15,
   "metadata": {},
   "outputs": [
    {
     "data": {
      "text/plain": [
       "106"
      ]
     },
     "execution_count": 15,
     "metadata": {},
     "output_type": "execute_result"
    }
   ],
   "source": [
    "df_combined.host_is_superhost.isnull().sum()"
   ]
  },
  {
   "cell_type": "code",
   "execution_count": 16,
   "metadata": {},
   "outputs": [],
   "source": [
    "df_combined['host_is_superhost'].fillna('f', inplace = True)"
   ]
  },
  {
   "cell_type": "code",
   "execution_count": 17,
   "metadata": {},
   "outputs": [],
   "source": [
    "df_combined.replace({'host_is_superhost': {'t': True, 'f': False}},inplace=True)"
   ]
  },
  {
   "cell_type": "code",
   "execution_count": 18,
   "metadata": {},
   "outputs": [
    {
     "data": {
      "text/plain": [
       "10936"
      ]
     },
     "execution_count": 18,
     "metadata": {},
     "output_type": "execute_result"
    }
   ],
   "source": [
    "df_combined.comments.isnull().sum()"
   ]
  },
  {
   "cell_type": "code",
   "execution_count": 19,
   "metadata": {},
   "outputs": [],
   "source": [
    "#update df_combined to only include reviews \n",
    "df_combined=df_combined[df_combined.comments.isnull()==False]"
   ]
  },
  {
   "cell_type": "code",
   "execution_count": 20,
   "metadata": {},
   "outputs": [
    {
     "data": {
      "text/plain": [
       "(37916, 98)"
      ]
     },
     "execution_count": 20,
     "metadata": {},
     "output_type": "execute_result"
    }
   ],
   "source": [
    "df_combined.shape"
   ]
  },
  {
   "cell_type": "code",
   "execution_count": 21,
   "metadata": {},
   "outputs": [
    {
     "data": {
      "text/plain": [
       "(6322, 98)"
      ]
     },
     "execution_count": 21,
     "metadata": {},
     "output_type": "execute_result"
    }
   ],
   "source": [
    "df_combined[df_combined.host_is_superhost==True].shape"
   ]
  },
  {
   "cell_type": "code",
   "execution_count": 22,
   "metadata": {},
   "outputs": [
    {
     "data": {
      "text/plain": [
       "0.1667369975735837"
      ]
     },
     "execution_count": 22,
     "metadata": {},
     "output_type": "execute_result"
    }
   ],
   "source": [
    "6322/37916"
   ]
  },
  {
   "cell_type": "code",
   "execution_count": 23,
   "metadata": {},
   "outputs": [],
   "source": [
    "new_df=df_combined"
   ]
  },
  {
   "cell_type": "code",
   "execution_count": 24,
   "metadata": {},
   "outputs": [
    {
     "data": {
      "text/plain": [
       "6321"
      ]
     },
     "execution_count": 24,
     "metadata": {},
     "output_type": "execute_result"
    }
   ],
   "source": [
    "super_pop = int(new_df.shape[0]*.16673)\n",
    "super_pop"
   ]
  },
  {
   "cell_type": "code",
   "execution_count": 25,
   "metadata": {},
   "outputs": [
    {
     "data": {
      "text/plain": [
       "31594"
      ]
     },
     "execution_count": 25,
     "metadata": {},
     "output_type": "execute_result"
    }
   ],
   "source": [
    "reg_pop = int(new_df.shape[0]*(1 - .16673))\n",
    "reg_pop"
   ]
  },
  {
   "cell_type": "code",
   "execution_count": 26,
   "metadata": {},
   "outputs": [],
   "source": [
    "sample_size = 37916\n",
    "super_perc = .16673\n",
    "\n",
    "\n",
    "reg_perc = 1 - super_perc\n",
    "\n",
    "# Sample sizes\n",
    "super_sample_size = int(sample_size * super_perc)\n",
    "reg_sample_size = int(sample_size * reg_perc)\n",
    "\n",
    "supers = new_df[new_df.host_is_superhost == 1]\n",
    "regs = new_df[new_df.host_is_superhost == 0]\n",
    "\n",
    "super_samples = supers.sample(super_sample_size)\n",
    "reg_samples = regs.sample(reg_sample_size)\n",
    "\n",
    "df_sample = super_samples.append(reg_samples)"
   ]
  },
  {
   "cell_type": "code",
   "execution_count": 27,
   "metadata": {},
   "outputs": [
    {
     "data": {
      "text/plain": [
       "False    31594\n",
       "True      6321\n",
       "Name: host_is_superhost, dtype: int64"
      ]
     },
     "execution_count": 27,
     "metadata": {},
     "output_type": "execute_result"
    }
   ],
   "source": [
    "df_sample.host_is_superhost.value_counts()"
   ]
  },
  {
   "cell_type": "code",
   "execution_count": 28,
   "metadata": {},
   "outputs": [
    {
     "name": "stdout",
     "output_type": "stream",
     "text": [
      "(6321, 98)\n"
     ]
    },
    {
     "data": {
      "text/plain": [
       "array([ True])"
      ]
     },
     "execution_count": 28,
     "metadata": {},
     "output_type": "execute_result"
    }
   ],
   "source": [
    "print(super_samples.shape)\n",
    "super_samples.host_is_superhost.unique()"
   ]
  },
  {
   "cell_type": "code",
   "execution_count": 29,
   "metadata": {},
   "outputs": [
    {
     "name": "stdout",
     "output_type": "stream",
     "text": [
      "(31594, 98)\n"
     ]
    },
    {
     "data": {
      "text/plain": [
       "array([False])"
      ]
     },
     "execution_count": 29,
     "metadata": {},
     "output_type": "execute_result"
    }
   ],
   "source": [
    "print(reg_samples.shape)\n",
    "reg_samples.host_is_superhost.unique()"
   ]
  },
  {
   "cell_type": "markdown",
   "metadata": {},
   "source": [
    "### NLP Scrubber"
   ]
  },
  {
   "cell_type": "code",
   "execution_count": 30,
   "metadata": {},
   "outputs": [],
   "source": [
    "#punctuation remover\n",
    "def remove_punctuation(text):\n",
    "    '''a function for removing punctuation'''\n",
    "    import string\n",
    "    # replacing the punctuations with no space, \n",
    "    # which in effect deletes the punctuation marks \n",
    "    translator = str.maketrans('', '', string.punctuation)\n",
    "    # return the text stripped of punctuation marks\n",
    "    return text.translate(translator)"
   ]
  },
  {
   "cell_type": "code",
   "execution_count": 28,
   "metadata": {},
   "outputs": [],
   "source": [
    "df_sample['comments'] = df_sample['comments'].apply(remove_punctuation)"
   ]
  },
  {
   "cell_type": "code",
   "execution_count": 29,
   "metadata": {},
   "outputs": [],
   "source": [
    "# create an object of stemming function\n",
    "stemmer = SnowballStemmer(\"english\")\n",
    "\n",
    "def stemming(text):    \n",
    "    '''a function which stems each word in the given text'''\n",
    "    text = [stemmer.stem(word) for word in text.split()]\n",
    "    return \" \".join(text) "
   ]
  },
  {
   "cell_type": "code",
   "execution_count": 30,
   "metadata": {},
   "outputs": [],
   "source": [
    "df_sample['comments'] = df_sample['comments'].apply(stemming)"
   ]
  },
  {
   "cell_type": "code",
   "execution_count": 32,
   "metadata": {},
   "outputs": [],
   "source": [
    "def plot_roc(y_test, X_test, model, model_name):\n",
    "    try:\n",
    "        AUC = roc_auc_score(y_test, model.predict_proba(X_test)[:,1])\n",
    "        fpr, tpr, thresholds = roc_curve(y_test, model.predict_proba(X_test)[:,1])\n",
    "\n",
    "        plt.figure()\n",
    "        lw = 2\n",
    "        plt.plot(fpr, tpr, color='darkorange', lw=lw, label='ROC curve (area = %0.2f)' % AUC)\n",
    "        plt.plot([0, 1], [0, 1], color='navy', lw=lw, linestyle='--')\n",
    "        plt.xlim([0.0, 1.0])\n",
    "        plt.ylim([0.0, 1.05])\n",
    "        plt.xlabel('False Positive Rate')\n",
    "        plt.ylabel('True Positive Rate')\n",
    "        plt.title('Receiver operating characteristic {}'.format(model_name))\n",
    "        plt.legend(loc=\"lower right\");\n",
    "    except:\n",
    "        None"
   ]
  },
  {
   "cell_type": "code",
   "execution_count": 33,
   "metadata": {},
   "outputs": [],
   "source": [
    "def train_predict(classifier, X, y):\n",
    "    #train_test_split\n",
    "    X_train, X_test, y_train, y_test = train_test_split(X, y, test_size=0.25, random_state=33)\n",
    "    #fit_classifier\n",
    "    classifier.fit(X_train, y_train)\n",
    "    y_predictions = classifier.predict(X_test)\n",
    "    print(\"Accuracy\")\n",
    "    #train_test_accuracy\n",
    "    print (\"Train Accuracy : {}\".format(accuracy_score(y_train, classifier.predict(X_train))))\n",
    "    print (\"Test Accuracy  : {}\".format(accuracy_score(y_test, y_predictions)))\n",
    "    print(\"\")\n",
    "    print(\"Confusion Matrix\")\n",
    "    #confusion_matrix\n",
    "    tn, fp, fn, tp = confusion_matrix(y_test, y_predictions).ravel()\n",
    "    print(\"True Negative: {}\".format(tn))\n",
    "    print(\"True Positive: {}\".format(tp))\n",
    "    print(\"False Negative: {}\".format(fn))\n",
    "    print(\"False Positive: {}\".format(fp))\n",
    "    print(\"\")\n",
    "    #classification_report\n",
    "    print(\"Classification Report\")\n",
    "    print(classification_report(y_test, y_predictions, target_names=['Not_Superhost', 'Superhost']))\n",
    "    #roc_curve\n",
    "    print(\"\")\n",
    "    plot_roc(y_test, X_test, model=classifier, model_name=\"classifier\")\n",
    "    return None"
   ]
  },
  {
   "cell_type": "markdown",
   "metadata": {},
   "source": [
    "## CountVectorizer only"
   ]
  },
  {
   "cell_type": "markdown",
   "metadata": {},
   "source": [
    "### Naive Bayes Baseline"
   ]
  },
  {
   "cell_type": "code",
   "execution_count": 54,
   "metadata": {},
   "outputs": [
    {
     "name": "stdout",
     "output_type": "stream",
     "text": [
      "Accuracy\n",
      "Train Accuracy : 0.847939231959488\n",
      "Test Accuracy  : 0.7718113725076485\n",
      "\n",
      "Confusion Matrix\n",
      "True Negative: 6493\n",
      "True Positive: 823\n",
      "False Negative: 757\n",
      "False Positive: 1406\n",
      "\n",
      "Classification Report\n",
      "               precision    recall  f1-score   support\n",
      "\n",
      "Not_Superhost       0.90      0.82      0.86      7899\n",
      "    Superhost       0.37      0.52      0.43      1580\n",
      "\n",
      "  avg / total       0.81      0.77      0.79      9479\n",
      "\n",
      "\n"
     ]
    },
    {
     "data": {
      "image/png": "[encoded data removed]",
      "text/plain": [
       "<matplotlib.figure.Figure at 0x7f1e42ff4240>"
      ]
     },
     "metadata": {},
     "output_type": "display_data"
    }
   ],
   "source": [
    "trial = Pipeline([\n",
    "    ('vect', CountVectorizer(stop_words='english', lowercase=True)),\n",
    "    ('clf', MultinomialNB())\n",
    "])\n",
    "\n",
    "train_predict(trial, df_sample['comments'], df_sample['host_is_superhost'])"
   ]
  },
  {
   "cell_type": "markdown",
   "metadata": {},
   "source": [
    "### Logistic Regression Baseline"
   ]
  },
  {
   "cell_type": "code",
   "execution_count": 55,
   "metadata": {},
   "outputs": [
    {
     "name": "stdout",
     "output_type": "stream",
     "text": [
      "Accuracy\n",
      "Train Accuracy : 0.9516106344070896\n",
      "Test Accuracy  : 0.8671800822871611\n",
      "\n",
      "Confusion Matrix\n",
      "True Negative: 7508\n",
      "True Positive: 712\n",
      "False Negative: 868\n",
      "False Positive: 391\n",
      "\n",
      "Classification Report\n",
      "               precision    recall  f1-score   support\n",
      "\n",
      "Not_Superhost       0.90      0.95      0.92      7899\n",
      "    Superhost       0.65      0.45      0.53      1580\n",
      "\n",
      "  avg / total       0.85      0.87      0.86      9479\n",
      "\n",
      "\n"
     ]
    },
    {
     "data": {
      "image/png": "[encoded data removed]",
      "text/plain": [
       "<matplotlib.figure.Figure at 0x7f1e430cab38>"
      ]
     },
     "metadata": {},
     "output_type": "display_data"
    }
   ],
   "source": [
    "trial1 = Pipeline([\n",
    "    ('vect', CountVectorizer(stop_words='english', lowercase=True)),\n",
    "    ('clf', LogisticRegression())\n",
    "])\n",
    "\n",
    "train_predict(trial1, df_sample['comments'], df_sample['host_is_superhost'])"
   ]
  },
  {
   "cell_type": "markdown",
   "metadata": {},
   "source": [
    "### Random Forest Classifier Baseline"
   ]
  },
  {
   "cell_type": "code",
   "execution_count": 56,
   "metadata": {},
   "outputs": [
    {
     "name": "stdout",
     "output_type": "stream",
     "text": [
      "Accuracy\n",
      "Train Accuracy : 0.9822759881839921\n",
      "Test Accuracy  : 0.8354256778141154\n",
      "\n",
      "Confusion Matrix\n",
      "True Negative: 7749\n",
      "True Positive: 170\n",
      "False Negative: 1410\n",
      "False Positive: 150\n",
      "\n",
      "Classification Report\n",
      "               precision    recall  f1-score   support\n",
      "\n",
      "Not_Superhost       0.85      0.98      0.91      7899\n",
      "    Superhost       0.53      0.11      0.18      1580\n",
      "\n",
      "  avg / total       0.79      0.84      0.79      9479\n",
      "\n",
      "\n"
     ]
    },
    {
     "data": {
      "image/png": "[encoded data removed]",
      "text/plain": [
       "<matplotlib.figure.Figure at 0x7f1e3c922e80>"
      ]
     },
     "metadata": {},
     "output_type": "display_data"
    }
   ],
   "source": [
    "trial2 = Pipeline([\n",
    "    ('vect', CountVectorizer(stop_words='english', lowercase=True)),\n",
    "    ('clf', RandomForestClassifier())\n",
    "])\n",
    "\n",
    "train_predict(trial2, df_sample['comments'], df_sample['host_is_superhost'])"
   ]
  },
  {
   "cell_type": "markdown",
   "metadata": {},
   "source": [
    "### Gradient Boosting Classifier Baseline"
   ]
  },
  {
   "cell_type": "code",
   "execution_count": 57,
   "metadata": {},
   "outputs": [
    {
     "name": "stdout",
     "output_type": "stream",
     "text": [
      "Accuracy\n",
      "Train Accuracy : 0.8802222534815023\n",
      "Test Accuracy  : 0.8673910750079122\n",
      "\n",
      "Confusion Matrix\n",
      "True Negative: 7639\n",
      "True Positive: 583\n",
      "False Negative: 997\n",
      "False Positive: 260\n",
      "\n",
      "Classification Report\n",
      "               precision    recall  f1-score   support\n",
      "\n",
      "Not_Superhost       0.88      0.97      0.92      7899\n",
      "    Superhost       0.69      0.37      0.48      1580\n",
      "\n",
      "  avg / total       0.85      0.87      0.85      9479\n",
      "\n",
      "\n"
     ]
    },
    {
     "data": {
      "image/png": "[encoded data removed]",
      "text/plain": [
       "<matplotlib.figure.Figure at 0x7f1e3f9ce240>"
      ]
     },
     "metadata": {},
     "output_type": "display_data"
    }
   ],
   "source": [
    "trial3 = Pipeline([\n",
    "    ('vect', CountVectorizer(stop_words='english', lowercase=True)),\n",
    "    ('clf', GradientBoostingClassifier())\n",
    "])\n",
    "\n",
    "train_predict(trial3, df_sample['comments'], df_sample['host_is_superhost'])"
   ]
  },
  {
   "cell_type": "markdown",
   "metadata": {},
   "source": [
    "### LinearSVC Baseline"
   ]
  },
  {
   "cell_type": "code",
   "execution_count": 132,
   "metadata": {},
   "outputs": [
    {
     "name": "stdout",
     "output_type": "stream",
     "text": [
      "Accuracy\n",
      "Train Accuracy : 0.9977141651427768\n",
      "Test Accuracy  : 0.8219221436860429\n",
      "\n",
      "Confusion Matrix\n",
      "True Negative: 7106\n",
      "True Positive: 685\n",
      "False Negative: 895\n",
      "False Positive: 793\n",
      "\n",
      "Classification Report\n",
      "               precision    recall  f1-score   support\n",
      "\n",
      "Not_Superhost       0.89      0.90      0.89      7899\n",
      "    Superhost       0.46      0.43      0.45      1580\n",
      "\n",
      "  avg / total       0.82      0.82      0.82      9479\n",
      "\n",
      "\n"
     ]
    }
   ],
   "source": [
    "trial4 = Pipeline([\n",
    "    ('vect', CountVectorizer(stop_words='english', lowercase=True)),\n",
    "    ('clf', LinearSVC())\n",
    "])\n",
    "\n",
    "train_predict(trial4, df_sample['comments'], df_sample['host_is_superhost'])"
   ]
  },
  {
   "cell_type": "markdown",
   "metadata": {},
   "source": [
    "## TfidfVectorizer only"
   ]
  },
  {
   "cell_type": "markdown",
   "metadata": {},
   "source": [
    "### Naive Bayes Baseline"
   ]
  },
  {
   "cell_type": "code",
   "execution_count": 58,
   "metadata": {},
   "outputs": [
    {
     "name": "stdout",
     "output_type": "stream",
     "text": [
      "Accuracy\n",
      "Train Accuracy : 0.8332747221831481\n",
      "Test Accuracy  : 0.8332102542462285\n",
      "\n",
      "Confusion Matrix\n",
      "True Negative: 7898\n",
      "True Positive: 0\n",
      "False Negative: 1580\n",
      "False Positive: 1\n",
      "\n",
      "Classification Report\n",
      "               precision    recall  f1-score   support\n",
      "\n",
      "Not_Superhost       0.83      1.00      0.91      7899\n",
      "    Superhost       0.00      0.00      0.00      1580\n",
      "\n",
      "  avg / total       0.69      0.83      0.76      9479\n",
      "\n",
      "\n"
     ]
    },
    {
     "data": {
      "image/png": "[encoded data removed]",
      "text/plain": [
       "<matplotlib.figure.Figure at 0x7f1e397a9438>"
      ]
     },
     "metadata": {},
     "output_type": "display_data"
    }
   ],
   "source": [
    "trial5 = Pipeline([\n",
    "    ('vect', TfidfVectorizer(stop_words='english', lowercase=True)),\n",
    "    ('clf', MultinomialNB())\n",
    "])\n",
    "\n",
    "train_predict(trial5, df_sample['comments'], df_sample['host_is_superhost'])"
   ]
  },
  {
   "cell_type": "markdown",
   "metadata": {},
   "source": [
    "### Logistic Regression Baseline"
   ]
  },
  {
   "cell_type": "code",
   "execution_count": 59,
   "metadata": {},
   "outputs": [
    {
     "name": "stdout",
     "output_type": "stream",
     "text": [
      "Accuracy\n",
      "Train Accuracy : 0.8602475734983823\n",
      "Test Accuracy  : 0.8423884375989028\n",
      "\n",
      "Confusion Matrix\n",
      "True Negative: 7694\n",
      "True Positive: 291\n",
      "False Negative: 1289\n",
      "False Positive: 205\n",
      "\n",
      "Classification Report\n",
      "               precision    recall  f1-score   support\n",
      "\n",
      "Not_Superhost       0.86      0.97      0.91      7899\n",
      "    Superhost       0.59      0.18      0.28      1580\n",
      "\n",
      "  avg / total       0.81      0.84      0.81      9479\n",
      "\n",
      "\n"
     ]
    },
    {
     "data": {
      "image/png": "[encoded data removed]",
      "text/plain": [
       "<matplotlib.figure.Figure at 0x7f1e3971fda0>"
      ]
     },
     "metadata": {},
     "output_type": "display_data"
    }
   ],
   "source": [
    "trial6 = Pipeline([\n",
    "    ('vect', TfidfVectorizer(stop_words='english', lowercase=True)),\n",
    "    ('clf', LogisticRegression())\n",
    "])\n",
    "\n",
    "train_predict(trial6, df_sample['comments'], df_sample['host_is_superhost'])"
   ]
  },
  {
   "cell_type": "markdown",
   "metadata": {},
   "source": [
    "### Random Forest Classifier Baseline"
   ]
  },
  {
   "cell_type": "code",
   "execution_count": 60,
   "metadata": {},
   "outputs": [
    {
     "name": "stdout",
     "output_type": "stream",
     "text": [
      "Accuracy\n",
      "Train Accuracy : 0.980834153889436\n",
      "Test Accuracy  : 0.837957590463129\n",
      "\n",
      "Confusion Matrix\n",
      "True Negative: 7771\n",
      "True Positive: 172\n",
      "False Negative: 1408\n",
      "False Positive: 128\n",
      "\n",
      "Classification Report\n",
      "               precision    recall  f1-score   support\n",
      "\n",
      "Not_Superhost       0.85      0.98      0.91      7899\n",
      "    Superhost       0.57      0.11      0.18      1580\n",
      "\n",
      "  avg / total       0.80      0.84      0.79      9479\n",
      "\n",
      "\n"
     ]
    },
    {
     "data": {
      "image/png": "[encoded data removed]",
      "text/plain": [
       "<matplotlib.figure.Figure at 0x7f1e36dd4048>"
      ]
     },
     "metadata": {},
     "output_type": "display_data"
    }
   ],
   "source": [
    "trial7 = Pipeline([\n",
    "    ('vect', TfidfVectorizer(stop_words='english', lowercase=True)),\n",
    "    ('clf', RandomForestClassifier())\n",
    "])\n",
    "\n",
    "train_predict(trial7, df_sample['comments'], df_sample['host_is_superhost'])"
   ]
  },
  {
   "cell_type": "markdown",
   "metadata": {},
   "source": [
    "### Gradient Boosting Classifier Baseline"
   ]
  },
  {
   "cell_type": "code",
   "execution_count": 34,
   "metadata": {},
   "outputs": [
    {
     "name": "stdout",
     "output_type": "stream",
     "text": [
      "Accuracy\n",
      "Train Accuracy : 0.8838444225629484\n",
      "Test Accuracy  : 0.8678130604494145\n",
      "\n",
      "Confusion Matrix\n",
      "True Negative: 7661\n",
      "True Positive: 565\n",
      "False Negative: 1015\n",
      "False Positive: 238\n",
      "\n",
      "Classification Report\n",
      "               precision    recall  f1-score   support\n",
      "\n",
      "Not_Superhost       0.88      0.97      0.92      7899\n",
      "    Superhost       0.70      0.36      0.47      1580\n",
      "\n",
      "  avg / total       0.85      0.87      0.85      9479\n",
      "\n",
      "\n"
     ]
    },
    {
     "data": {
      "image/png": "[encoded data removed]",
      "text/plain": [
       "<matplotlib.figure.Figure at 0x7ff99dc2e240>"
      ]
     },
     "metadata": {},
     "output_type": "display_data"
    }
   ],
   "source": [
    "trial8 = Pipeline([\n",
    "    ('vect', TfidfVectorizer(stop_words='english', lowercase=True)),\n",
    "    ('clf', GradientBoostingClassifier())\n",
    "])\n",
    "\n",
    "train_predict(trial8, df_sample['comments'], df_sample['host_is_superhost'])"
   ]
  },
  {
   "cell_type": "markdown",
   "metadata": {},
   "source": [
    "### LinearSVC Baseline"
   ]
  },
  {
   "cell_type": "code",
   "execution_count": 36,
   "metadata": {},
   "outputs": [
    {
     "name": "stdout",
     "output_type": "stream",
     "text": [
      "Accuracy\n",
      "Train Accuracy : 0.9589956393304262\n",
      "Test Accuracy  : 0.8518831100327039\n",
      "\n",
      "Confusion Matrix\n",
      "True Negative: 7462\n",
      "True Positive: 613\n",
      "False Negative: 967\n",
      "False Positive: 437\n",
      "\n",
      "Classification Report\n",
      "               precision    recall  f1-score   support\n",
      "\n",
      "Not_Superhost       0.89      0.94      0.91      7899\n",
      "    Superhost       0.58      0.39      0.47      1580\n",
      "\n",
      "  avg / total       0.84      0.85      0.84      9479\n",
      "\n",
      "\n"
     ]
    }
   ],
   "source": [
    "trial9 = Pipeline([\n",
    "    ('vect', TfidfVectorizer(stop_words='english', lowercase=True)),\n",
    "    ('clf', LinearSVC())\n",
    "])\n",
    "\n",
    "train_predict(trial9, df_sample['comments'], df_sample['host_is_superhost'])"
   ]
  },
  {
   "cell_type": "markdown",
   "metadata": {},
   "source": [
    "#### Pick out the top 50 feature importance (words) from the model"
   ]
  },
  {
   "cell_type": "code",
   "execution_count": 35,
   "metadata": {},
   "outputs": [],
   "source": [
    "trial8_featurenames=trial8.steps[0][1].get_feature_names()"
   ]
  },
  {
   "cell_type": "code",
   "execution_count": 36,
   "metadata": {},
   "outputs": [],
   "source": [
    "trial8_importantfeats = trial8.steps[1][1].feature_importances_"
   ]
  },
  {
   "cell_type": "code",
   "execution_count": 42,
   "metadata": {},
   "outputs": [],
   "source": [
    "indices = np.argsort(trial8_importantfeats)\n",
    "feature_names = np.array(trial8_featurenames)[indices][-50:]"
   ]
  },
  {
   "cell_type": "code",
   "execution_count": 43,
   "metadata": {},
   "outputs": [
    {
     "data": {
      "text/plain": [
       "array(['walkable', 'equipped', 'sleep', 'didn', 'ok', 'night',\n",
       "       'superhost', 'sink', 'welcoming', 'vivement', 'communication',\n",
       "       'public', 'thoughtful', 'dusty', 'hosts', 'super', 'posting',\n",
       "       'wonderful', 'attentive', 'lovely', 'cons', 'home', 'comfortable',\n",
       "       'casa', 'people', 'reservation', 'spotless', 'touches', 'check',\n",
       "       'visit', 'stylish', 'house', 'darya', 'clean', 'beautiful', 'wasn',\n",
       "       'did', 'amazing', 'snacks', 'keys', 'hospitality', 'best',\n",
       "       'definitely', 'fine', 'place', 'dirty', 'canceled', 'good',\n",
       "       'highly', 'automated'], dtype='<U144')"
      ]
     },
     "execution_count": 43,
     "metadata": {},
     "output_type": "execute_result"
    }
   ],
   "source": [
    "feature_names"
   ]
  }
 ],
 "metadata": {
  "kernelspec": {
   "display_name": "Python 3",
   "language": "python",
   "name": "python3"
  },
  "language_info": {
   "codemirror_mode": {
    "name": "ipython",
    "version": 3
   },
   "file_extension": ".py",
   "mimetype": "text/x-python",
   "name": "python",
   "nbconvert_exporter": "python",
   "pygments_lexer": "ipython3",
   "version": "3.6.3"
  }
 },
 "nbformat": 4,
 "nbformat_minor": 2
}
